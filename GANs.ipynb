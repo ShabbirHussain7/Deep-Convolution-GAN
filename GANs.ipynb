{
  "cells": [
    {
      "cell_type": "code",
      "execution_count": 1,
      "metadata": {
        "id": "8QXbEUSxu-bU"
      },
      "outputs": [],
      "source": [
        "import os\n",
        "import random\n",
        "import torch\n",
        "import torch.nn as nn\n",
        "from torch.utils.data import Dataset, DataLoader\n",
        "import torch.optim as optim\n",
        "import torchvision.transforms as transforms"
      ]
    },
    {
      "cell_type": "code",
      "execution_count": null,
      "metadata": {
        "id": "o84Nrbt9vtk-"
      },
      "outputs": [],
      "source": [
        "dataset = ''\n"
      ]
    },
    {
      "cell_type": "code",
      "execution_count": null,
      "metadata": {
        "id": "BclDvigo1-Tp"
      },
      "outputs": [],
      "source": [
        "def weights_init(m):\n",
        "  if isinstance(m, nn.Conv2d):\n",
        "    nn.init.normal_(m.weight.data, 0.0, 0.02)\n",
        "  elif isinstance(m, nn.BatchNorm2d):\n",
        "    nn.init.normal_(m.weight.data, 1.0, 0.02)\n",
        "    nn.init.constant_(m.bias.data, 0)\n"
      ]
    },
    {
      "cell_type": "code",
      "execution_count": 33,
      "metadata": {
        "id": "wqs3cJkF5161"
      },
      "outputs": [],
      "source": [
        "class Generator(nn.Module):\n",
        "  def __init__(self, latent_size):\n",
        "    super().__init__()\n",
        "    self.proj_layer = nn.ConvTranspose2d(in_channels = latent_size, out_channels = 1024, kernel_size=4, stride= 1, padding=0, bias=False)\n",
        "    self.proj_norm = nn.BatchNorm2d(1024, affine=False)\n",
        "\n",
        "    self.conv1 = nn.ConvTranspose2d(in_channels = 1024, out_channels =  512, kernel_size=4, stride= 2, padding = 1, bias=False)\n",
        "    self.norm1 = nn.BatchNorm2d(512, affine=False)\n",
        "\n",
        "    self.conv2 = nn.ConvTranspose2d(in_channels = 512, out_channels =  256, kernel_size=4, stride= 2, padding = 1, bias=False)\n",
        "    self.norm2 = nn.BatchNorm2d(256, affine=False)\n",
        "\n",
        "    self.conv3 = nn.ConvTranspose2d(in_channels = 256, out_channels = 128, kernel_size=4, stride= 2, padding = 1, bias=False)\n",
        "    self.norm3 = nn.BatchNorm2d(128, affine=False)\n",
        "\n",
        "    self.conv4 = nn.ConvTranspose2d(in_channels = 128, out_channels =  3, kernel_size=4, stride= 2, padding = 1, bias=False)\n",
        "\n",
        "    self.relu = nn.ReLU(inplace= True)\n",
        "    self.tanh = nn.Tanh()\n",
        "\n",
        "\n",
        "\n",
        "  def forward(self,z):\n",
        "    x = self.proj_norm(self.proj_layer(z))\n",
        "    x = self.relu(self.norm1(self.conv1(x)))\n",
        "    x = self.relu(self.norm2(self.conv2(x)))\n",
        "    x = self.relu(self.norm3(self.conv3(x)))\n",
        "    x = self.tanh(self.conv4(x))\n",
        "    return x\n",
        "\n",
        "    "
      ]
    },
    {
      "cell_type": "code",
      "execution_count": 34,
      "metadata": {
        "colab": {
          "base_uri": "https://localhost:8080/"
        },
        "id": "1e-K5NrVHQ8W",
        "outputId": "1d750a6b-968e-44bf-d027-cac9f35af439"
      },
      "outputs": [
        {
          "name": "stdout",
          "output_type": "stream",
          "text": [
            "torch.Size([32, 3, 64, 64])\n"
          ]
        }
      ],
      "source": [
        "gen = Generator(100)\n",
        "z = torch.randn(32, 100, 1, 1)\n",
        "print(gen(z).shape)"
      ]
    },
    {
      "cell_type": "code",
      "execution_count": 31,
      "metadata": {
        "id": "iiEJ03swHjLk"
      },
      "outputs": [],
      "source": [
        "class Discriminator(nn.Module):\n",
        "  def __init__(self, input_channels):\n",
        "    super().__init__()\n",
        "\n",
        "    self.proj_layer = nn.Conv2d(in_channels = input_channels, out_channels = 128, kernel_size=4, stride= 2, padding = 1, bias=False)\n",
        "\n",
        "    self.conv1 = nn.Conv2d(in_channels = 128, out_channels =  256, kernel_size=4, stride= 2, padding = 1, bias=False)\n",
        "    self.norm1 = nn.BatchNorm2d(256, affine=False)\n",
        "\n",
        "    self.conv2 = nn.Conv2d(in_channels = 256, out_channels = 512, kernel_size=4, stride= 2, padding = 1, bias=False)\n",
        "    self.norm2 = nn.BatchNorm2d(512, affine=False)\n",
        "\n",
        "    self.conv3 = nn.Conv2d(in_channels = 512, out_channels = 1024, kernel_size=4, stride= 2, padding = 1, bias=False)\n",
        "    self.norm3 = nn.BatchNorm2d(1024, affine=False)\n",
        "\n",
        "    self.conv4 = nn.Conv2d(in_channels = 1024, out_channels = 1, kernel_size=4, stride= 1, padding = 0, bias=False)\n",
        "    \n",
        "    self.l_relu = nn.LeakyReLU(0.2, inplace= True)\n",
        "    self.sigmoid = nn.Sigmoid()\n",
        "\n",
        "\n",
        "\n",
        "  def forward(self,z):\n",
        "    x = self.l_relu(self.proj_layer(z))\n",
        "    x = self.l_relu(self.norm1(self.conv1(x)))\n",
        "    x = self.l_relu(self.norm2(self.conv2(x)))\n",
        "    x = self.l_relu(self.norm3(self.conv3(x)))\n",
        "    x = self.sigmoid(self.conv4(x))\n",
        "    return x\n"
      ]
    }
  ],
  "metadata": {
    "colab": {
      "provenance": []
    },
    "kernelspec": {
      "display_name": "Python 3",
      "name": "python3"
    },
    "language_info": {
      "name": "python"
    }
  },
  "nbformat": 4,
  "nbformat_minor": 0
}
